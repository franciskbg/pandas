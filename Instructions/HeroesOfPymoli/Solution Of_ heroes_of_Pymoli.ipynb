{
 "cells": [
  {
   "cell_type": "markdown",
   "metadata": {},
   "source": [
    "# What I've learn from the data set of Hero_Of_Pymoli\n",
    "\n",
    "1. once think I've notice in the data set is that there are more men players (84%) who plays this game than female (14%). Maybe the company may want to figure out why there are few women playing the game than man. What is interesting also is that 1% of the population didn't disclosed their genger. I guess, the company may want to make it mandatory in order to have a better idea of the gender.\n",
    "\n",
    "2. It also looks like we have big number of players that range between the age of 20 - 24. That group age represent 46% of the population.\n",
    "\n",
    "3. The most profitable and popular item that was bought was \" Despair, Favor of Due Diligence\". \n"
   ]
  },
  {
   "cell_type": "code",
   "execution_count": 203,
   "metadata": {},
   "outputs": [],
   "source": [
    "# Dependencies and Setup\n",
    "import pandas as pd\n",
    "import numpy as np\n",
    "\n",
    "# File to Load (Remember to Change These)\n",
    "file_to_load = \"Resources/purchase_data.csv\"\n",
    "\n"
   ]
  },
  {
   "cell_type": "code",
   "execution_count": 204,
   "metadata": {},
   "outputs": [
    {
     "data": {
      "text/html": [
       "<div>\n",
       "<style scoped>\n",
       "    .dataframe tbody tr th:only-of-type {\n",
       "        vertical-align: middle;\n",
       "    }\n",
       "\n",
       "    .dataframe tbody tr th {\n",
       "        vertical-align: top;\n",
       "    }\n",
       "\n",
       "    .dataframe thead th {\n",
       "        text-align: right;\n",
       "    }\n",
       "</style>\n",
       "<table border=\"1\" class=\"dataframe\">\n",
       "  <thead>\n",
       "    <tr style=\"text-align: right;\">\n",
       "      <th></th>\n",
       "      <th>Purchase ID</th>\n",
       "      <th>SN</th>\n",
       "      <th>Age</th>\n",
       "      <th>Gender</th>\n",
       "      <th>Item ID</th>\n",
       "      <th>Item Name</th>\n",
       "      <th>Price</th>\n",
       "    </tr>\n",
       "  </thead>\n",
       "  <tbody>\n",
       "    <tr>\n",
       "      <th>0</th>\n",
       "      <td>0</td>\n",
       "      <td>Lisim78</td>\n",
       "      <td>20</td>\n",
       "      <td>Male</td>\n",
       "      <td>108</td>\n",
       "      <td>Extraction, Quickblade Of Trembling Hands</td>\n",
       "      <td>3.53</td>\n",
       "    </tr>\n",
       "    <tr>\n",
       "      <th>1</th>\n",
       "      <td>1</td>\n",
       "      <td>Lisovynya38</td>\n",
       "      <td>40</td>\n",
       "      <td>Male</td>\n",
       "      <td>143</td>\n",
       "      <td>Frenzied Scimitar</td>\n",
       "      <td>1.56</td>\n",
       "    </tr>\n",
       "    <tr>\n",
       "      <th>2</th>\n",
       "      <td>2</td>\n",
       "      <td>Ithergue48</td>\n",
       "      <td>24</td>\n",
       "      <td>Male</td>\n",
       "      <td>92</td>\n",
       "      <td>Final Critic</td>\n",
       "      <td>4.88</td>\n",
       "    </tr>\n",
       "    <tr>\n",
       "      <th>3</th>\n",
       "      <td>3</td>\n",
       "      <td>Chamassasya86</td>\n",
       "      <td>24</td>\n",
       "      <td>Male</td>\n",
       "      <td>100</td>\n",
       "      <td>Blindscythe</td>\n",
       "      <td>3.27</td>\n",
       "    </tr>\n",
       "    <tr>\n",
       "      <th>4</th>\n",
       "      <td>4</td>\n",
       "      <td>Iskosia90</td>\n",
       "      <td>23</td>\n",
       "      <td>Male</td>\n",
       "      <td>131</td>\n",
       "      <td>Fury</td>\n",
       "      <td>1.44</td>\n",
       "    </tr>\n",
       "  </tbody>\n",
       "</table>\n",
       "</div>"
      ],
      "text/plain": [
       "   Purchase ID             SN  Age Gender  Item ID  \\\n",
       "0            0        Lisim78   20   Male      108   \n",
       "1            1    Lisovynya38   40   Male      143   \n",
       "2            2     Ithergue48   24   Male       92   \n",
       "3            3  Chamassasya86   24   Male      100   \n",
       "4            4      Iskosia90   23   Male      131   \n",
       "\n",
       "                                   Item Name  Price  \n",
       "0  Extraction, Quickblade Of Trembling Hands   3.53  \n",
       "1                          Frenzied Scimitar   1.56  \n",
       "2                               Final Critic   4.88  \n",
       "3                                Blindscythe   3.27  \n",
       "4                                       Fury   1.44  "
      ]
     },
     "execution_count": 204,
     "metadata": {},
     "output_type": "execute_result"
    }
   ],
   "source": [
    "purchased_data = pd.read_csv(file_to_load)\n",
    "purchased_data.head()"
   ]
  },
  {
   "cell_type": "code",
   "execution_count": 205,
   "metadata": {},
   "outputs": [
    {
     "name": "stdout",
     "output_type": "stream",
     "text": [
      "576\n"
     ]
    }
   ],
   "source": [
    "#Display the total number of players\n",
    "players = len(purchased_data[\"SN\"].unique())\n",
    "print(players)\n"
   ]
  },
  {
   "cell_type": "code",
   "execution_count": 206,
   "metadata": {},
   "outputs": [
    {
     "name": "stdout",
     "output_type": "stream",
     "text": [
      "   Total Players \n",
      "0             576\n"
     ]
    }
   ],
   "source": [
    "Total_numbers = pd.DataFrame({\"Total Players \" : [players]})\n",
    "print(Total_numbers)\n"
   ]
  },
  {
   "cell_type": "code",
   "execution_count": 207,
   "metadata": {},
   "outputs": [
    {
     "data": {
      "text/plain": [
       "179"
      ]
     },
     "execution_count": 207,
     "metadata": {},
     "output_type": "execute_result"
    }
   ],
   "source": [
    "#Purchasing Analysis (Total) Number of Unique Items\n",
    "Unique_items = len(purchased_data[\"Item Name\"].unique())\n",
    "Unique_items\n"
   ]
  },
  {
   "cell_type": "code",
   "execution_count": 208,
   "metadata": {},
   "outputs": [
    {
     "data": {
      "text/plain": [
       "3.050987179487176"
      ]
     },
     "execution_count": 208,
     "metadata": {},
     "output_type": "execute_result"
    }
   ],
   "source": [
    "#calculating the average price purchased by the players\n",
    "Average_Prices = purchased_data[\"Price\"].mean()\n",
    "Average_Prices\n"
   ]
  },
  {
   "cell_type": "code",
   "execution_count": 209,
   "metadata": {},
   "outputs": [
    {
     "data": {
      "text/plain": [
       "780"
      ]
     },
     "execution_count": 209,
     "metadata": {},
     "output_type": "execute_result"
    }
   ],
   "source": [
    "#we are calculating the number of purchases made by players\n",
    "Number_of_purchase = purchased_data[ \"Price\"].count()\n",
    "Number_of_purchase"
   ]
  },
  {
   "cell_type": "code",
   "execution_count": 210,
   "metadata": {},
   "outputs": [
    {
     "data": {
      "text/plain": [
       "2379.77"
      ]
     },
     "execution_count": 210,
     "metadata": {},
     "output_type": "execute_result"
    }
   ],
   "source": [
    "#Calculating the overall total purchase by the players\n",
    "Total_rev = purchased_data[ \"Price\"].sum()\n",
    "Total_rev"
   ]
  },
  {
   "cell_type": "code",
   "execution_count": 211,
   "metadata": {},
   "outputs": [
    {
     "data": {
      "text/html": [
       "<div>\n",
       "<style scoped>\n",
       "    .dataframe tbody tr th:only-of-type {\n",
       "        vertical-align: middle;\n",
       "    }\n",
       "\n",
       "    .dataframe tbody tr th {\n",
       "        vertical-align: top;\n",
       "    }\n",
       "\n",
       "    .dataframe thead th {\n",
       "        text-align: right;\n",
       "    }\n",
       "</style>\n",
       "<table border=\"1\" class=\"dataframe\">\n",
       "  <thead>\n",
       "    <tr style=\"text-align: right;\">\n",
       "      <th></th>\n",
       "      <th>Number of Unique Items</th>\n",
       "      <th>Average Price</th>\n",
       "      <th>Number of Purchases</th>\n",
       "      <th>Total Revenue</th>\n",
       "    </tr>\n",
       "  </thead>\n",
       "  <tbody>\n",
       "    <tr>\n",
       "      <th>0</th>\n",
       "      <td>179</td>\n",
       "      <td>3.050987</td>\n",
       "      <td>780</td>\n",
       "      <td>2379.77</td>\n",
       "    </tr>\n",
       "  </tbody>\n",
       "</table>\n",
       "</div>"
      ],
      "text/plain": [
       "   Number of Unique Items  Average Price  Number of Purchases  Total Revenue\n",
       "0                     179       3.050987                  780        2379.77"
      ]
     },
     "execution_count": 211,
     "metadata": {},
     "output_type": "execute_result"
    }
   ],
   "source": [
    "Purchasing_Analysis = pd.DataFrame({ \"Number of Unique Items\":[Unique_items],\n",
    "                                        \"Average Price\": [Average_Prices],\n",
    "                                        \"Number of Purchases\": [Number_of_purchase],\n",
    "                                         \"Total Revenue\" : [Total_rev]\n",
    "                                   })\n",
    "Purchasing_Analysis"
   ]
  },
  {
   "cell_type": "code",
   "execution_count": 212,
   "metadata": {},
   "outputs": [
    {
     "data": {
      "text/plain": [
       "Male                     652\n",
       "Female                   113\n",
       "Other / Non-Disclosed     15\n",
       "Name: Gender, dtype: int64"
      ]
     },
     "execution_count": 212,
     "metadata": {},
     "output_type": "execute_result"
    }
   ],
   "source": [
    "# Gender Demographics\n",
    "\n",
    "gender_of_player = purchased_data[\"Gender\"].value_counts()\n",
    "gender_of_player\n"
   ]
  },
  {
   "cell_type": "code",
   "execution_count": 213,
   "metadata": {},
   "outputs": [
    {
     "name": "stdout",
     "output_type": "stream",
     "text": [
      "780\n"
     ]
    }
   ],
   "source": [
    "#Percentage gender\n",
    "Total_gender = purchased_data[\"Gender\"].count()\n",
    "print(Total_gender)\n"
   ]
  },
  {
   "cell_type": "code",
   "execution_count": 214,
   "metadata": {},
   "outputs": [
    {
     "data": {
      "text/plain": [
       "Male                     83.589744\n",
       "Female                   14.487179\n",
       "Other / Non-Disclosed     1.923077\n",
       "Name: Gender, dtype: float64"
      ]
     },
     "execution_count": 214,
     "metadata": {},
     "output_type": "execute_result"
    }
   ],
   "source": [
    "perc_of_players= (gender_of_player/Total_gender)*100\n",
    "perc_of_players"
   ]
  },
  {
   "cell_type": "code",
   "execution_count": 215,
   "metadata": {},
   "outputs": [
    {
     "data": {
      "text/html": [
       "<div>\n",
       "<style scoped>\n",
       "    .dataframe tbody tr th:only-of-type {\n",
       "        vertical-align: middle;\n",
       "    }\n",
       "\n",
       "    .dataframe tbody tr th {\n",
       "        vertical-align: top;\n",
       "    }\n",
       "\n",
       "    .dataframe thead th {\n",
       "        text-align: right;\n",
       "    }\n",
       "</style>\n",
       "<table border=\"1\" class=\"dataframe\">\n",
       "  <thead>\n",
       "    <tr style=\"text-align: right;\">\n",
       "      <th></th>\n",
       "      <th>Gender</th>\n",
       "    </tr>\n",
       "  </thead>\n",
       "  <tbody>\n",
       "    <tr>\n",
       "      <th>Male</th>\n",
       "      <td>652</td>\n",
       "    </tr>\n",
       "    <tr>\n",
       "      <th>Female</th>\n",
       "      <td>113</td>\n",
       "    </tr>\n",
       "    <tr>\n",
       "      <th>Other / Non-Disclosed</th>\n",
       "      <td>15</td>\n",
       "    </tr>\n",
       "  </tbody>\n",
       "</table>\n",
       "</div>"
      ],
      "text/plain": [
       "                       Gender\n",
       "Male                      652\n",
       "Female                    113\n",
       "Other / Non-Disclosed      15"
      ]
     },
     "execution_count": 215,
     "metadata": {},
     "output_type": "execute_result"
    }
   ],
   "source": [
    "gender_dem = pd.DataFrame(gender_of_players)\n",
    "gender_dem \n",
    "\n"
   ]
  },
  {
   "cell_type": "code",
   "execution_count": 216,
   "metadata": {},
   "outputs": [
    {
     "data": {
      "text/html": [
       "<div>\n",
       "<style scoped>\n",
       "    .dataframe tbody tr th:only-of-type {\n",
       "        vertical-align: middle;\n",
       "    }\n",
       "\n",
       "    .dataframe tbody tr th {\n",
       "        vertical-align: top;\n",
       "    }\n",
       "\n",
       "    .dataframe thead th {\n",
       "        text-align: right;\n",
       "    }\n",
       "</style>\n",
       "<table border=\"1\" class=\"dataframe\">\n",
       "  <thead>\n",
       "    <tr style=\"text-align: right;\">\n",
       "      <th></th>\n",
       "      <th>Gender</th>\n",
       "    </tr>\n",
       "  </thead>\n",
       "  <tbody>\n",
       "    <tr>\n",
       "      <th>Male</th>\n",
       "      <td>83.589744</td>\n",
       "    </tr>\n",
       "    <tr>\n",
       "      <th>Female</th>\n",
       "      <td>14.487179</td>\n",
       "    </tr>\n",
       "    <tr>\n",
       "      <th>Other / Non-Disclosed</th>\n",
       "      <td>1.923077</td>\n",
       "    </tr>\n",
       "  </tbody>\n",
       "</table>\n",
       "</div>"
      ],
      "text/plain": [
       "                          Gender\n",
       "Male                   83.589744\n",
       "Female                 14.487179\n",
       "Other / Non-Disclosed   1.923077"
      ]
     },
     "execution_count": 216,
     "metadata": {},
     "output_type": "execute_result"
    }
   ],
   "source": [
    "percent_of_players = pd.DataFrame(perc_of_players)\n",
    "percent_of_players"
   ]
  },
  {
   "cell_type": "code",
   "execution_count": 275,
   "metadata": {},
   "outputs": [
    {
     "data": {
      "text/html": [
       "<div>\n",
       "<style scoped>\n",
       "    .dataframe tbody tr th:only-of-type {\n",
       "        vertical-align: middle;\n",
       "    }\n",
       "\n",
       "    .dataframe tbody tr th {\n",
       "        vertical-align: top;\n",
       "    }\n",
       "\n",
       "    .dataframe thead th {\n",
       "        text-align: right;\n",
       "    }\n",
       "</style>\n",
       "<table border=\"1\" class=\"dataframe\">\n",
       "  <thead>\n",
       "    <tr style=\"text-align: right;\">\n",
       "      <th></th>\n",
       "      <th>Total Count</th>\n",
       "    </tr>\n",
       "  </thead>\n",
       "  <tbody>\n",
       "    <tr>\n",
       "      <th>Male</th>\n",
       "      <td>83.589744</td>\n",
       "    </tr>\n",
       "    <tr>\n",
       "      <th>Female</th>\n",
       "      <td>14.487179</td>\n",
       "    </tr>\n",
       "    <tr>\n",
       "      <th>Other / Non-Disclosed</th>\n",
       "      <td>1.923077</td>\n",
       "    </tr>\n",
       "  </tbody>\n",
       "</table>\n",
       "</div>"
      ],
      "text/plain": [
       "                       Total Count\n",
       "Male                     83.589744\n",
       "Female                   14.487179\n",
       "Other / Non-Disclosed     1.923077"
      ]
     },
     "execution_count": 275,
     "metadata": {},
     "output_type": "execute_result"
    }
   ],
   "source": [
    "demographics = percent_of_players.rename(columns={\n",
    "    'Gender': 'Total Count',\n",
    "})\n",
    "demographics"
   ]
  },
  {
   "cell_type": "markdown",
   "metadata": {},
   "source": [
    "# Purchasing Analysis (Gender)"
   ]
  },
  {
   "cell_type": "code",
   "execution_count": 276,
   "metadata": {},
   "outputs": [
    {
     "name": "stdout",
     "output_type": "stream",
     "text": [
      "<pandas.core.groupby.groupby.DataFrameGroupBy object at 0x0000021E3A775748>\n"
     ]
    }
   ],
   "source": [
    "# We'll try to find out the purchase count by gender\n",
    "gender_info = purchased_data.groupby(\"Gender\")\n",
    "print(gender_info)\n"
   ]
  },
  {
   "cell_type": "code",
   "execution_count": 277,
   "metadata": {},
   "outputs": [
    {
     "name": "stdout",
     "output_type": "stream",
     "text": [
      "780\n"
     ]
    }
   ],
   "source": [
    "players_count = purchased_data['SN'].count()\n",
    "print(purchased_count)\n"
   ]
  },
  {
   "cell_type": "code",
   "execution_count": 278,
   "metadata": {},
   "outputs": [
    {
     "data": {
      "text/html": [
       "<div>\n",
       "<style scoped>\n",
       "    .dataframe tbody tr th:only-of-type {\n",
       "        vertical-align: middle;\n",
       "    }\n",
       "\n",
       "    .dataframe tbody tr th {\n",
       "        vertical-align: top;\n",
       "    }\n",
       "\n",
       "    .dataframe thead th {\n",
       "        text-align: right;\n",
       "    }\n",
       "</style>\n",
       "<table border=\"1\" class=\"dataframe\">\n",
       "  <thead>\n",
       "    <tr style=\"text-align: right;\">\n",
       "      <th></th>\n",
       "      <th>Purchase Count</th>\n",
       "      <th>Average Purchase Price</th>\n",
       "      <th>Total Purchase Price</th>\n",
       "    </tr>\n",
       "    <tr>\n",
       "      <th>Gender</th>\n",
       "      <th></th>\n",
       "      <th></th>\n",
       "      <th></th>\n",
       "    </tr>\n",
       "  </thead>\n",
       "  <tbody>\n",
       "    <tr>\n",
       "      <th>Female</th>\n",
       "      <td>113</td>\n",
       "      <td>3.203009</td>\n",
       "      <td>3.203009</td>\n",
       "    </tr>\n",
       "    <tr>\n",
       "      <th>Male</th>\n",
       "      <td>652</td>\n",
       "      <td>3.017853</td>\n",
       "      <td>3.017853</td>\n",
       "    </tr>\n",
       "    <tr>\n",
       "      <th>Other / Non-Disclosed</th>\n",
       "      <td>15</td>\n",
       "      <td>3.346000</td>\n",
       "      <td>3.346000</td>\n",
       "    </tr>\n",
       "  </tbody>\n",
       "</table>\n",
       "</div>"
      ],
      "text/plain": [
       "                       Purchase Count  Average Purchase Price  \\\n",
       "Gender                                                          \n",
       "Female                            113                3.203009   \n",
       "Male                              652                3.017853   \n",
       "Other / Non-Disclosed              15                3.346000   \n",
       "\n",
       "                       Total Purchase Price  \n",
       "Gender                                       \n",
       "Female                             3.203009  \n",
       "Male                               3.017853  \n",
       "Other / Non-Disclosed              3.346000  "
      ]
     },
     "execution_count": 278,
     "metadata": {},
     "output_type": "execute_result"
    }
   ],
   "source": [
    "gender_info = purchased_data.groupby('Gender')\n",
    "\n",
    "players_count = gender_info['SN'].count()\n",
    "players_count_df = pd.DataFrame(players_count)\n",
    "\n",
    "# Finding the average purchased price by gender\n",
    "avg_price =  gender_info['Price'].mean()\n",
    "\n",
    "# we'll calculate the total purchased price by gender\n",
    "overall_gender_purchased = gender_info['Price'].sum()\n",
    "\n",
    "# We'll Calculate avg_total_purchase_per_Person \n",
    "avg_total =overall_gender_purchased / players_count\n",
    "\n",
    "\n",
    "players_count_df['Average Purchase Price'] = avg_price\n",
    "gender_purchased_df = pd.DataFrame(players_count_df)\n",
    "\n",
    "# In order for our table to look like the model shown in the solotion, we need to rename the 'SN' column to look like Purchase Coun\n",
    "\n",
    "gender_purchase_df = gender_purchased_df.rename(columns={\n",
    "    'SN': 'Purchase Count',\n",
    "})\n",
    "\n",
    "# Add 'Avg Total Purchase per Person' to table\n",
    "gender_purchase_df['Total Purchase Price'] = overall_gender_purchased\n",
    "gender_purchaseID_df = pd.DataFrame(gender_purchase_df)\n",
    "\n",
    "# Add 'Total Purchase Price' to table\n",
    "gender_purchaseID_df['Total Purchase Price'] =avg_total\n",
    "overall_gender_purchased = pd.DataFrame(gender_purchaseID_df)\n",
    "overall_gender_purchased"
   ]
  },
  {
   "cell_type": "markdown",
   "metadata": {},
   "source": [
    "# Gender Democraphics"
   ]
  },
  {
   "cell_type": "code",
   "execution_count": 353,
   "metadata": {},
   "outputs": [
    {
     "data": {
      "text/html": [
       "<div>\n",
       "<style scoped>\n",
       "    .dataframe tbody tr th:only-of-type {\n",
       "        vertical-align: middle;\n",
       "    }\n",
       "\n",
       "    .dataframe tbody tr th {\n",
       "        vertical-align: top;\n",
       "    }\n",
       "\n",
       "    .dataframe thead th {\n",
       "        text-align: right;\n",
       "    }\n",
       "</style>\n",
       "<table border=\"1\" class=\"dataframe\">\n",
       "  <thead>\n",
       "    <tr style=\"text-align: right;\">\n",
       "      <th></th>\n",
       "      <th>Total Count</th>\n",
       "      <th>Percentage of Players</th>\n",
       "    </tr>\n",
       "    <tr>\n",
       "      <th>Age Group</th>\n",
       "      <th></th>\n",
       "      <th></th>\n",
       "    </tr>\n",
       "  </thead>\n",
       "  <tbody>\n",
       "    <tr>\n",
       "      <th>&lt;10</th>\n",
       "      <td>23</td>\n",
       "      <td>2.948718</td>\n",
       "    </tr>\n",
       "    <tr>\n",
       "      <th>10-14</th>\n",
       "      <td>28</td>\n",
       "      <td>3.589744</td>\n",
       "    </tr>\n",
       "    <tr>\n",
       "      <th>15-19</th>\n",
       "      <td>136</td>\n",
       "      <td>17.435897</td>\n",
       "    </tr>\n",
       "    <tr>\n",
       "      <th>20-24</th>\n",
       "      <td>365</td>\n",
       "      <td>46.794872</td>\n",
       "    </tr>\n",
       "    <tr>\n",
       "      <th>25-29</th>\n",
       "      <td>101</td>\n",
       "      <td>12.948718</td>\n",
       "    </tr>\n",
       "    <tr>\n",
       "      <th>30-34</th>\n",
       "      <td>73</td>\n",
       "      <td>9.358974</td>\n",
       "    </tr>\n",
       "    <tr>\n",
       "      <th>35-39</th>\n",
       "      <td>35</td>\n",
       "      <td>4.487179</td>\n",
       "    </tr>\n",
       "    <tr>\n",
       "      <th>40+</th>\n",
       "      <td>6</td>\n",
       "      <td>0.769231</td>\n",
       "    </tr>\n",
       "  </tbody>\n",
       "</table>\n",
       "</div>"
      ],
      "text/plain": [
       "           Total Count  Percentage of Players\n",
       "Age Group                                    \n",
       "<10                 23               2.948718\n",
       "10-14               28               3.589744\n",
       "15-19              136              17.435897\n",
       "20-24              365              46.794872\n",
       "25-29              101              12.948718\n",
       "30-34               73               9.358974\n",
       "35-39               35               4.487179\n",
       "40+                  6               0.769231"
      ]
     },
     "execution_count": 353,
     "metadata": {},
     "output_type": "execute_result"
    }
   ],
   "source": [
    "#Creating a bin where all the values will be hold. So, we are passing range where all the age are grouped within\n",
    "bins = [0,9,14,19,24,29,34,38,39]\n",
    "age_group= [\"<10\",\"10-14\",\"15-19\",\"20-24\",\"25-29\",\"30-34\",\"35-39\",\"40+\"]\n",
    "\n",
    "players_age = pd.DataFrame(purchased_data )\n",
    "players_age[\"Age Group\"] = pd.cut(purchased_data[\"Age\"],bins,labels=age_group)\n",
    "players_age= players_age.groupby(\"Age Group\", as_index=True)\n",
    "\n",
    "\n",
    "\n",
    "avg_count = players_age[\"Age Group\"].count()\n",
    "avg_total = purchased_data[\"Age\"].count()\n",
    "avg_percentage = (avg_count/avg_total)*100\n",
    "\n",
    "demographics = pd.DataFrame({\"Total Count\":avg_count,\"Percentage of Players\": avg_percentage})\n",
    "\n",
    "demographics.head(10)"
   ]
  },
  {
   "cell_type": "markdown",
   "metadata": {},
   "source": [
    "# Purchasing Analysis (Age)"
   ]
  },
  {
   "cell_type": "code",
   "execution_count": 354,
   "metadata": {},
   "outputs": [
    {
     "data": {
      "text/html": [
       "<div>\n",
       "<style scoped>\n",
       "    .dataframe tbody tr th:only-of-type {\n",
       "        vertical-align: middle;\n",
       "    }\n",
       "\n",
       "    .dataframe tbody tr th {\n",
       "        vertical-align: top;\n",
       "    }\n",
       "\n",
       "    .dataframe thead th {\n",
       "        text-align: right;\n",
       "    }\n",
       "</style>\n",
       "<table border=\"1\" class=\"dataframe\">\n",
       "  <thead>\n",
       "    <tr style=\"text-align: right;\">\n",
       "      <th></th>\n",
       "      <th>Purchase Count</th>\n",
       "      <th>Average Purchase Price</th>\n",
       "      <th>Total Purchase Value</th>\n",
       "      <th>Avg Total Purchase per Person</th>\n",
       "    </tr>\n",
       "    <tr>\n",
       "      <th>Age Group</th>\n",
       "      <th></th>\n",
       "      <th></th>\n",
       "      <th></th>\n",
       "      <th></th>\n",
       "    </tr>\n",
       "  </thead>\n",
       "  <tbody>\n",
       "    <tr>\n",
       "      <th>&lt;10</th>\n",
       "      <td>23</td>\n",
       "      <td>3.0</td>\n",
       "      <td>77.13</td>\n",
       "      <td>3.0</td>\n",
       "    </tr>\n",
       "    <tr>\n",
       "      <th>10-14</th>\n",
       "      <td>28</td>\n",
       "      <td>3.0</td>\n",
       "      <td>82.78</td>\n",
       "      <td>3.0</td>\n",
       "    </tr>\n",
       "    <tr>\n",
       "      <th>15-19</th>\n",
       "      <td>136</td>\n",
       "      <td>3.0</td>\n",
       "      <td>412.89</td>\n",
       "      <td>3.0</td>\n",
       "    </tr>\n",
       "    <tr>\n",
       "      <th>20-24</th>\n",
       "      <td>365</td>\n",
       "      <td>3.0</td>\n",
       "      <td>1114.06</td>\n",
       "      <td>3.0</td>\n",
       "    </tr>\n",
       "    <tr>\n",
       "      <th>25-29</th>\n",
       "      <td>101</td>\n",
       "      <td>3.0</td>\n",
       "      <td>293.00</td>\n",
       "      <td>3.0</td>\n",
       "    </tr>\n",
       "    <tr>\n",
       "      <th>30-34</th>\n",
       "      <td>73</td>\n",
       "      <td>3.0</td>\n",
       "      <td>214.00</td>\n",
       "      <td>3.0</td>\n",
       "    </tr>\n",
       "    <tr>\n",
       "      <th>35-39</th>\n",
       "      <td>41</td>\n",
       "      <td>4.0</td>\n",
       "      <td>147.67</td>\n",
       "      <td>4.0</td>\n",
       "    </tr>\n",
       "    <tr>\n",
       "      <th>40+</th>\n",
       "      <td>13</td>\n",
       "      <td>3.0</td>\n",
       "      <td>38.24</td>\n",
       "      <td>3.0</td>\n",
       "    </tr>\n",
       "  </tbody>\n",
       "</table>\n",
       "</div>"
      ],
      "text/plain": [
       "           Purchase Count  Average Purchase Price  Total Purchase Value  \\\n",
       "Age Group                                                                 \n",
       "<10                    23                     3.0                 77.13   \n",
       "10-14                  28                     3.0                 82.78   \n",
       "15-19                 136                     3.0                412.89   \n",
       "20-24                 365                     3.0               1114.06   \n",
       "25-29                 101                     3.0                293.00   \n",
       "30-34                  73                     3.0                214.00   \n",
       "35-39                  41                     4.0                147.67   \n",
       "40+                    13                     3.0                 38.24   \n",
       "\n",
       "           Avg Total Purchase per Person  \n",
       "Age Group                                 \n",
       "<10                                  3.0  \n",
       "10-14                                3.0  \n",
       "15-19                                3.0  \n",
       "20-24                                3.0  \n",
       "25-29                                3.0  \n",
       "30-34                                3.0  \n",
       "35-39                                4.0  \n",
       "40+                                  3.0  "
      ]
     },
     "execution_count": 354,
     "metadata": {},
     "output_type": "execute_result"
    }
   ],
   "source": [
    "#Creating a bin so it can be used to anlyze the avg purchasing trend based on age group\n",
    "\n",
    "bins_group = [0,14,19,24,29,34,39,100]\n",
    "age_grouping= [\"10-14\",\"15-19\",\"20-24\",\"25-29\",\"30-34\",\"35-39\",\"40+\"]\n",
    "\n",
    "players_age = pd.DataFrame(purchased_data )\n",
    "players_age[\"Age Group\"] = pd.cut(purchased_data[\"Age\"],bins_group,labels=age_grouping)\n",
    "players_age= players_age.groupby(\"Age Group\", as_index=True)\n",
    "\n",
    "age_grouping = purchased_data.groupby([\"Age Group\"])\n",
    "\n",
    "avg_age_price = round(age_grouping[\"Price\"].mean())\n",
    "total_value = age_grouping[\"Price\"].sum()\n",
    "Players_total = round(total_value/players_age_count,)\n",
    "age_dataframe = pd.DataFrame({\"Purchase Count\":players_age_count,\n",
    "                             \"Average Purchase Price\": avg_age_price,\n",
    "                             \"Total Purchase Value\": total_value,\n",
    "                             \"Avg Total Purchase per Person\": Players_total})\n",
    "\n",
    "Purchase= age_dataframe[[\"Purchase Count\",\"Average Purchase Price\", \"Total Purchase Value\",\n",
    "                               \"Avg Total Purchase per Person\"]]\n",
    "Purchase\n",
    "\n",
    "\n",
    "\n"
   ]
  },
  {
   "cell_type": "markdown",
   "metadata": {},
   "source": [
    "# Top Spenders"
   ]
  },
  {
   "cell_type": "code",
   "execution_count": 370,
   "metadata": {},
   "outputs": [
    {
     "data": {
      "text/html": [
       "<div>\n",
       "<style scoped>\n",
       "    .dataframe tbody tr th:only-of-type {\n",
       "        vertical-align: middle;\n",
       "    }\n",
       "\n",
       "    .dataframe tbody tr th {\n",
       "        vertical-align: top;\n",
       "    }\n",
       "\n",
       "    .dataframe thead th {\n",
       "        text-align: right;\n",
       "    }\n",
       "</style>\n",
       "<table border=\"1\" class=\"dataframe\">\n",
       "  <thead>\n",
       "    <tr style=\"text-align: right;\">\n",
       "      <th></th>\n",
       "      <th>Purchase Count</th>\n",
       "      <th>Average Purchase Price</th>\n",
       "      <th>Total Purchase Value</th>\n",
       "    </tr>\n",
       "    <tr>\n",
       "      <th>SN</th>\n",
       "      <th></th>\n",
       "      <th></th>\n",
       "      <th></th>\n",
       "    </tr>\n",
       "  </thead>\n",
       "  <tbody>\n",
       "    <tr>\n",
       "      <th>Lisosia93</th>\n",
       "      <td>5</td>\n",
       "      <td>3.792000</td>\n",
       "      <td>18.96</td>\n",
       "    </tr>\n",
       "    <tr>\n",
       "      <th>Idastidru52</th>\n",
       "      <td>4</td>\n",
       "      <td>3.862500</td>\n",
       "      <td>15.45</td>\n",
       "    </tr>\n",
       "    <tr>\n",
       "      <th>Chamjask73</th>\n",
       "      <td>3</td>\n",
       "      <td>4.610000</td>\n",
       "      <td>13.83</td>\n",
       "    </tr>\n",
       "    <tr>\n",
       "      <th>Iral74</th>\n",
       "      <td>4</td>\n",
       "      <td>3.405000</td>\n",
       "      <td>13.62</td>\n",
       "    </tr>\n",
       "    <tr>\n",
       "      <th>Iskadarya95</th>\n",
       "      <td>3</td>\n",
       "      <td>4.366667</td>\n",
       "      <td>13.10</td>\n",
       "    </tr>\n",
       "    <tr>\n",
       "      <th>Ilarin91</th>\n",
       "      <td>3</td>\n",
       "      <td>4.233333</td>\n",
       "      <td>12.70</td>\n",
       "    </tr>\n",
       "  </tbody>\n",
       "</table>\n",
       "</div>"
      ],
      "text/plain": [
       "             Purchase Count  Average Purchase Price  Total Purchase Value\n",
       "SN                                                                       \n",
       "Lisosia93                 5                3.792000                 18.96\n",
       "Idastidru52               4                3.862500                 15.45\n",
       "Chamjask73                3                4.610000                 13.83\n",
       "Iral74                    4                3.405000                 13.62\n",
       "Iskadarya95               3                4.366667                 13.10\n",
       "Ilarin91                  3                4.233333                 12.70"
      ]
     },
     "execution_count": 370,
     "metadata": {},
     "output_type": "execute_result"
    }
   ],
   "source": [
    "#we need to figure who is the top buyers.\n",
    "\n",
    "top_spenders = purchased_data.groupby(\"SN\")[\"Price\"].count()\n",
    "top_spenders_df = pd.DataFrame(top_spenders)\n",
    "\n",
    "\n",
    "unique_spenders = purchased_data.groupby(\"SN\")[\"Price\"].sum()\n",
    "\n",
    "\n",
    "avg_price = purchased_data.groupby(\"SN\")[\"Price\"].mean()\n",
    "\n",
    "\n",
    "top_spenders_df[\"Average Purchase Price\"] = avg_price\n",
    "\n",
    "# once we calculate the average and the sum, we'll add the 'Total Purchase Value' to table\n",
    "top_spenders_df[\"Total Purchase Value\"] = unique_spenders\n",
    "top_spenders_df\n",
    "\n",
    "#we will also rename the table to be able to match what is in our solotion\n",
    "updated_top_spenders_df = top_spenders_df.rename(columns={\n",
    "    \"Price\": \"Purchase Count\",\n",
    "})\n",
    "\n",
    "# Once our data has been calculated, we'll sort the price column from highest to lowest\n",
    "Total_purchase= updated_top_spenders_df.sort_values(by=[\"Total Purchase Value\"], ascending=False)\n",
    "Total_purchase\n",
    "\n",
    "Total_purchase.head (6)\n",
    "\n"
   ]
  },
  {
   "cell_type": "markdown",
   "metadata": {},
   "source": [
    "# Most Popular Items"
   ]
  },
  {
   "cell_type": "code",
   "execution_count": 393,
   "metadata": {},
   "outputs": [
    {
     "data": {
      "text/html": [
       "<div>\n",
       "<style scoped>\n",
       "    .dataframe tbody tr th:only-of-type {\n",
       "        vertical-align: middle;\n",
       "    }\n",
       "\n",
       "    .dataframe tbody tr th {\n",
       "        vertical-align: top;\n",
       "    }\n",
       "\n",
       "    .dataframe thead th {\n",
       "        text-align: right;\n",
       "    }\n",
       "</style>\n",
       "<table border=\"1\" class=\"dataframe\">\n",
       "  <thead>\n",
       "    <tr style=\"text-align: right;\">\n",
       "      <th></th>\n",
       "      <th>Item Name</th>\n",
       "      <th>Purchase Count</th>\n",
       "      <th>Item Price</th>\n",
       "      <th>Total Purchase Value</th>\n",
       "    </tr>\n",
       "    <tr>\n",
       "      <th>Item ID</th>\n",
       "      <th></th>\n",
       "      <th></th>\n",
       "      <th></th>\n",
       "      <th></th>\n",
       "    </tr>\n",
       "  </thead>\n",
       "  <tbody>\n",
       "    <tr>\n",
       "      <th>178</th>\n",
       "      <td>Despair, Favor of Due Diligence</td>\n",
       "      <td>12</td>\n",
       "      <td>4.60</td>\n",
       "      <td>50.76</td>\n",
       "    </tr>\n",
       "    <tr>\n",
       "      <th>145</th>\n",
       "      <td>Hopeless Ebon Dualblade</td>\n",
       "      <td>9</td>\n",
       "      <td>1.33</td>\n",
       "      <td>41.22</td>\n",
       "    </tr>\n",
       "    <tr>\n",
       "      <th>108</th>\n",
       "      <td>Malificent Bag</td>\n",
       "      <td>9</td>\n",
       "      <td>1.75</td>\n",
       "      <td>31.77</td>\n",
       "    </tr>\n",
       "    <tr>\n",
       "      <th>82</th>\n",
       "      <td>Azurewrath</td>\n",
       "      <td>9</td>\n",
       "      <td>4.40</td>\n",
       "      <td>44.10</td>\n",
       "    </tr>\n",
       "    <tr>\n",
       "      <th>19</th>\n",
       "      <td>Blazefury, Protector of Delusions</td>\n",
       "      <td>8</td>\n",
       "      <td>4.64</td>\n",
       "      <td>8.16</td>\n",
       "    </tr>\n",
       "  </tbody>\n",
       "</table>\n",
       "</div>"
      ],
      "text/plain": [
       "                                 Item Name  Purchase Count  Item Price  \\\n",
       "Item ID                                                                  \n",
       "178        Despair, Favor of Due Diligence              12        4.60   \n",
       "145                Hopeless Ebon Dualblade               9        1.33   \n",
       "108                         Malificent Bag               9        1.75   \n",
       "82                              Azurewrath               9        4.40   \n",
       "19       Blazefury, Protector of Delusions               8        4.64   \n",
       "\n",
       "         Total Purchase Value  \n",
       "Item ID                        \n",
       "178                     50.76  \n",
       "145                     41.22  \n",
       "108                     31.77  \n",
       "82                      44.10  \n",
       "19                       8.16  "
      ]
     },
     "execution_count": 393,
     "metadata": {},
     "output_type": "execute_result"
    }
   ],
   "source": [
    "#We'll set up our data frame and calculat the count of items and price in our data set\n",
    "\n",
    "count_item =  purchased_data.groupby(\"Item ID\")[\"Price\"].count()\n",
    "count_of_item = pd.DataFrame(count_item)\n",
    "\n",
    "# once we know the count of all items, we'll calculate the price of the items\n",
    "\n",
    "pupular_item =  purchased_data.groupby(\"Item ID\")[\"Price\"].sum()\n",
    "\n",
    "\n",
    "item_names =  purchased_data.iloc[:, 5]\n",
    "count_of_item[\"Item Name\"] = item_names\n",
    "\n",
    "\n",
    "price_of_items =  purchased_data.iloc[:, 6]\n",
    "count_of_item[\"Item Price\"] = price_of_items\n",
    "\n",
    "\n",
    "count_of_item[\"Total Purchase Value\"] = pupular_item \n",
    "count_of_item\n",
    "\n",
    "#we'll rename the column tittke of our table to make sense of the data\n",
    "new_count_of_item = count_of_item.rename(columns={ \"Price\": \"Purchase Count\",})\n",
    "\n",
    "new_table = new_count_of_item[[\"Item Name\", \"Purchase Count\", \"Item Price\", \"Total Purchase Value\"]]\n",
    "\n",
    "sorted_items_df = new_table.sort_values(by=[\"Purchase Count\"], ascending=False)\n",
    "\n",
    "\n",
    "sorted_items_df.head()"
   ]
  },
  {
   "cell_type": "markdown",
   "metadata": {},
   "source": [
    "# Most Profitable Items"
   ]
  },
  {
   "cell_type": "code",
   "execution_count": 397,
   "metadata": {},
   "outputs": [
    {
     "data": {
      "text/html": [
       "<div>\n",
       "<style scoped>\n",
       "    .dataframe tbody tr th:only-of-type {\n",
       "        vertical-align: middle;\n",
       "    }\n",
       "\n",
       "    .dataframe tbody tr th {\n",
       "        vertical-align: top;\n",
       "    }\n",
       "\n",
       "    .dataframe thead th {\n",
       "        text-align: right;\n",
       "    }\n",
       "</style>\n",
       "<table border=\"1\" class=\"dataframe\">\n",
       "  <thead>\n",
       "    <tr style=\"text-align: right;\">\n",
       "      <th></th>\n",
       "      <th>Item Name</th>\n",
       "      <th>Purchase Count</th>\n",
       "      <th>Item Price</th>\n",
       "      <th>Total Purchase Value</th>\n",
       "    </tr>\n",
       "    <tr>\n",
       "      <th>Item ID</th>\n",
       "      <th></th>\n",
       "      <th></th>\n",
       "      <th></th>\n",
       "      <th></th>\n",
       "    </tr>\n",
       "  </thead>\n",
       "  <tbody>\n",
       "    <tr>\n",
       "      <th>178</th>\n",
       "      <td>Despair, Favor of Due Diligence</td>\n",
       "      <td>12</td>\n",
       "      <td>Despair, Favor of Due Diligence</td>\n",
       "      <td>50.76</td>\n",
       "    </tr>\n",
       "    <tr>\n",
       "      <th>82</th>\n",
       "      <td>Azurewrath</td>\n",
       "      <td>9</td>\n",
       "      <td>Azurewrath</td>\n",
       "      <td>44.10</td>\n",
       "    </tr>\n",
       "    <tr>\n",
       "      <th>145</th>\n",
       "      <td>Hopeless Ebon Dualblade</td>\n",
       "      <td>9</td>\n",
       "      <td>Hopeless Ebon Dualblade</td>\n",
       "      <td>41.22</td>\n",
       "    </tr>\n",
       "    <tr>\n",
       "      <th>92</th>\n",
       "      <td>Betrayal, Whisper of Grieving Widows</td>\n",
       "      <td>8</td>\n",
       "      <td>Betrayal, Whisper of Grieving Widows</td>\n",
       "      <td>39.04</td>\n",
       "    </tr>\n",
       "    <tr>\n",
       "      <th>103</th>\n",
       "      <td>Thorn, Satchel of Dark Souls</td>\n",
       "      <td>8</td>\n",
       "      <td>Thorn, Satchel of Dark Souls</td>\n",
       "      <td>34.80</td>\n",
       "    </tr>\n",
       "  </tbody>\n",
       "</table>\n",
       "</div>"
      ],
      "text/plain": [
       "                                    Item Name  Purchase Count  \\\n",
       "Item ID                                                         \n",
       "178           Despair, Favor of Due Diligence              12   \n",
       "82                                 Azurewrath               9   \n",
       "145                   Hopeless Ebon Dualblade               9   \n",
       "92       Betrayal, Whisper of Grieving Widows               8   \n",
       "103              Thorn, Satchel of Dark Souls               8   \n",
       "\n",
       "                                   Item Price  Total Purchase Value  \n",
       "Item ID                                                              \n",
       "178           Despair, Favor of Due Diligence                 50.76  \n",
       "82                                 Azurewrath                 44.10  \n",
       "145                   Hopeless Ebon Dualblade                 41.22  \n",
       "92       Betrayal, Whisper of Grieving Widows                 39.04  \n",
       "103              Thorn, Satchel of Dark Souls                 34.80  "
      ]
     },
     "execution_count": 397,
     "metadata": {},
     "output_type": "execute_result"
    }
   ],
   "source": [
    "profit_item = purchased_data.groupby(\"Item ID\")['Price'].count()\n",
    "good_items = pd.DataFrame(profit_item)\n",
    "\n",
    "# Calculate 'Total Purchase Price' of each item\n",
    "special_items  = purchased_data.groupby('Item ID')['Price'].sum()\n",
    "\n",
    "# Add 'Item Name' to table\n",
    "tot_items = purchased_data.iloc[:, 5]\n",
    "good_items[\"Item Name\"] = tot_items\n",
    "\n",
    "# Add 'Item Price' to table\n",
    "pricing_items = purchased_data.iloc[:, 6]\n",
    "good_items[\"Item Price\"] = tot_items\n",
    "\n",
    "# Add 'Total Purchase Value' to table\n",
    "good_items[\"Total Purchase Value\"] = special_items\n",
    "good_items\n",
    "\n",
    "# Rename 'Price' to 'Purchase Count'\n",
    "new_good_count_items = good_items.rename(columns={ \"Price\": \"Purchase Count\",})\n",
    "\n",
    "# Rearrange columns\n",
    "count_of_new_items = new_good_count_items[['Item Name', 'Purchase Count', 'Item Price', 'Total Purchase Value']]\n",
    "\n",
    "# Sort 'Purchase Count' from highest to lowest\n",
    "New_profit_table = count_of_new_items.sort_values(by=['Total Purchase Value'], ascending=False)\n",
    "\n",
    "# Show top 5 popular items only\n",
    "New_profit_table.head(5)"
   ]
  },
  {
   "cell_type": "code",
   "execution_count": null,
   "metadata": {},
   "outputs": [],
   "source": []
  }
 ],
 "metadata": {
  "kernelspec": {
   "display_name": "Python 3",
   "language": "python",
   "name": "python3"
  },
  "language_info": {
   "codemirror_mode": {
    "name": "ipython",
    "version": 3
   },
   "file_extension": ".py",
   "mimetype": "text/x-python",
   "name": "python",
   "nbconvert_exporter": "python",
   "pygments_lexer": "ipython3",
   "version": "3.7.1"
  }
 },
 "nbformat": 4,
 "nbformat_minor": 2
}
